{
 "cells": [
  {
   "cell_type": "markdown",
   "id": "52fad4f4",
   "metadata": {},
   "source": [
    "## Importing Necessary Libraries"
   ]
  },
  {
   "cell_type": "code",
   "execution_count": 29,
   "id": "1f3b021e",
   "metadata": {
    "ExecuteTime": {
     "end_time": "2024-03-22T12:25:08.177421Z",
     "start_time": "2024-03-22T12:25:08.154452Z"
    }
   },
   "outputs": [],
   "source": [
    "# for dataframe manipulation and analysis\n",
    "import pandas as pd\n",
    "import numpy as np\n",
    "\n",
    "# for data visualization\n",
    "import matplotlib.pyplot as plt\n",
    "import matplotlib as mpl\n",
    "%matplotlib inline\n",
    "import seaborn as sns\n",
    "\n",
    "# warning filtering library\n",
    "import warnings\n",
    "warnings.filterwarnings('ignore')\n",
    "\n",
    "# for data preprocessing\n",
    "from sklearn.model_selection import train_test_split\n",
    "\n",
    "# for model building\n",
    "from sklearn.linear_model import LinearRegression\n",
    "from sklearn.tree import DecisionTreeRegressor\n",
    "from sklearn.neighbors import KNeighborsRegressor\n",
    "from sklearn.svm import SVR\n",
    "from sklearn.ensemble import RandomForestRegressor,AdaBoostRegressor,GradientBoostingRegressor\n",
    "from xgboost import XGBRegressor\n",
    "import xgboost\n",
    "\n",
    "# for model evaluation\n",
    "from sklearn.metrics import mean_squared_error,r2_score\n",
    "from sklearn.model_selection import cross_val_score"
   ]
  },
  {
   "cell_type": "markdown",
   "id": "1dcd9f66",
   "metadata": {},
   "source": [
    "## Loading the dataset"
   ]
  },
  {
   "cell_type": "code",
   "execution_count": 30,
   "id": "b19a1d2a",
   "metadata": {
    "ExecuteTime": {
     "end_time": "2024-03-22T12:25:09.280792Z",
     "start_time": "2024-03-22T12:25:09.190841Z"
    },
    "scrolled": true
   },
   "outputs": [
    {
     "data": {
      "text/html": [
       "<div>\n",
       "<style scoped>\n",
       "    .dataframe tbody tr th:only-of-type {\n",
       "        vertical-align: middle;\n",
       "    }\n",
       "\n",
       "    .dataframe tbody tr th {\n",
       "        vertical-align: top;\n",
       "    }\n",
       "\n",
       "    .dataframe thead th {\n",
       "        text-align: right;\n",
       "    }\n",
       "</style>\n",
       "<table border=\"1\" class=\"dataframe\">\n",
       "  <thead>\n",
       "    <tr style=\"text-align: right;\">\n",
       "      <th></th>\n",
       "      <th>area_type</th>\n",
       "      <th>availability</th>\n",
       "      <th>location</th>\n",
       "      <th>size</th>\n",
       "      <th>society</th>\n",
       "      <th>total_sqft</th>\n",
       "      <th>bath</th>\n",
       "      <th>balcony</th>\n",
       "      <th>price</th>\n",
       "    </tr>\n",
       "  </thead>\n",
       "  <tbody>\n",
       "    <tr>\n",
       "      <th>0</th>\n",
       "      <td>Super built-up  Area</td>\n",
       "      <td>19-Dec</td>\n",
       "      <td>Electronic City Phase II</td>\n",
       "      <td>2 BHK</td>\n",
       "      <td>Coomee</td>\n",
       "      <td>1056</td>\n",
       "      <td>2.0</td>\n",
       "      <td>1.0</td>\n",
       "      <td>39.07</td>\n",
       "    </tr>\n",
       "    <tr>\n",
       "      <th>1</th>\n",
       "      <td>Plot  Area</td>\n",
       "      <td>Ready To Move</td>\n",
       "      <td>Chikka Tirupathi</td>\n",
       "      <td>4 Bedroom</td>\n",
       "      <td>Theanmp</td>\n",
       "      <td>2600</td>\n",
       "      <td>5.0</td>\n",
       "      <td>3.0</td>\n",
       "      <td>120.00</td>\n",
       "    </tr>\n",
       "    <tr>\n",
       "      <th>2</th>\n",
       "      <td>Built-up  Area</td>\n",
       "      <td>Ready To Move</td>\n",
       "      <td>Uttarahalli</td>\n",
       "      <td>3 BHK</td>\n",
       "      <td>NaN</td>\n",
       "      <td>1440</td>\n",
       "      <td>2.0</td>\n",
       "      <td>3.0</td>\n",
       "      <td>62.00</td>\n",
       "    </tr>\n",
       "    <tr>\n",
       "      <th>3</th>\n",
       "      <td>Super built-up  Area</td>\n",
       "      <td>Ready To Move</td>\n",
       "      <td>Lingadheeranahalli</td>\n",
       "      <td>3 BHK</td>\n",
       "      <td>Soiewre</td>\n",
       "      <td>1521</td>\n",
       "      <td>3.0</td>\n",
       "      <td>1.0</td>\n",
       "      <td>95.00</td>\n",
       "    </tr>\n",
       "    <tr>\n",
       "      <th>4</th>\n",
       "      <td>Super built-up  Area</td>\n",
       "      <td>Ready To Move</td>\n",
       "      <td>Kothanur</td>\n",
       "      <td>2 BHK</td>\n",
       "      <td>NaN</td>\n",
       "      <td>1200</td>\n",
       "      <td>2.0</td>\n",
       "      <td>1.0</td>\n",
       "      <td>51.00</td>\n",
       "    </tr>\n",
       "  </tbody>\n",
       "</table>\n",
       "</div>"
      ],
      "text/plain": [
       "              area_type   availability                  location       size  \\\n",
       "0  Super built-up  Area         19-Dec  Electronic City Phase II      2 BHK   \n",
       "1            Plot  Area  Ready To Move          Chikka Tirupathi  4 Bedroom   \n",
       "2        Built-up  Area  Ready To Move               Uttarahalli      3 BHK   \n",
       "3  Super built-up  Area  Ready To Move        Lingadheeranahalli      3 BHK   \n",
       "4  Super built-up  Area  Ready To Move                  Kothanur      2 BHK   \n",
       "\n",
       "   society total_sqft  bath  balcony   price  \n",
       "0  Coomee        1056   2.0      1.0   39.07  \n",
       "1  Theanmp       2600   5.0      3.0  120.00  \n",
       "2      NaN       1440   2.0      3.0   62.00  \n",
       "3  Soiewre       1521   3.0      1.0   95.00  \n",
       "4      NaN       1200   2.0      1.0   51.00  "
      ]
     },
     "execution_count": 30,
     "metadata": {},
     "output_type": "execute_result"
    }
   ],
   "source": [
    "df = pd.read_csv('Bengaluru_House_Data.csv')\n",
    "df.head()"
   ]
  },
  {
   "cell_type": "markdown",
   "id": "39041b33",
   "metadata": {},
   "source": [
    "#### About the dataset-\n",
    "- The dataset used in this project is Bangalore house dataset, obtained from kaggle.The dataset has various features of a property and its price."
   ]
  },
  {
   "cell_type": "markdown",
   "id": "8905bd39",
   "metadata": {},
   "source": [
    "## EDA"
   ]
  },
  {
   "cell_type": "code",
   "execution_count": 31,
   "id": "f396ee94",
   "metadata": {
    "ExecuteTime": {
     "end_time": "2024-03-22T12:25:10.820920Z",
     "start_time": "2024-03-22T12:25:10.792924Z"
    }
   },
   "outputs": [],
   "source": [
    "# droping duplicates\n",
    "df.drop_duplicates(inplace = True)"
   ]
  },
  {
   "cell_type": "code",
   "execution_count": 32,
   "id": "e6dae2a8",
   "metadata": {
    "ExecuteTime": {
     "end_time": "2024-03-22T12:25:11.327622Z",
     "start_time": "2024-03-22T12:25:11.272651Z"
    },
    "scrolled": false
   },
   "outputs": [
    {
     "name": "stdout",
     "output_type": "stream",
     "text": [
      "<class 'pandas.core.frame.DataFrame'>\n",
      "Int64Index: 12791 entries, 0 to 13318\n",
      "Data columns (total 9 columns):\n",
      " #   Column        Non-Null Count  Dtype  \n",
      "---  ------        --------------  -----  \n",
      " 0   area_type     12791 non-null  object \n",
      " 1   availability  12791 non-null  object \n",
      " 2   location      12790 non-null  object \n",
      " 3   size          12775 non-null  object \n",
      " 4   society       7463 non-null   object \n",
      " 5   total_sqft    12791 non-null  object \n",
      " 6   bath          12718 non-null  float64\n",
      " 7   balcony       12186 non-null  float64\n",
      " 8   price         12791 non-null  float64\n",
      "dtypes: float64(3), object(6)\n",
      "memory usage: 999.3+ KB\n"
     ]
    }
   ],
   "source": [
    "df.info()"
   ]
  },
  {
   "cell_type": "markdown",
   "id": "54d511dd",
   "metadata": {},
   "source": [
    "## Observation\n",
    "- There are 12791 records and 9 features.\n",
    "- There are missing values in the dataset.\n",
    "- some features are in categorical form so we need encode them."
   ]
  },
  {
   "cell_type": "markdown",
   "id": "bade4aa1",
   "metadata": {},
   "source": [
    "## Understanding categorical column"
   ]
  },
  {
   "cell_type": "code",
   "execution_count": 33,
   "id": "293f4ce3",
   "metadata": {
    "ExecuteTime": {
     "end_time": "2024-03-22T12:25:13.019652Z",
     "start_time": "2024-03-22T12:25:12.752823Z"
    },
    "scrolled": false
   },
   "outputs": [
    {
     "data": {
      "image/png": "[encoded data removed]",
      "text/plain": [
       "<Figure size 600x400 with 1 Axes>"
      ]
     },
     "metadata": {},
     "output_type": "display_data"
    }
   ],
   "source": [
    "plt.figure(figsize = (6,4))\n",
    "y = sns.countplot(df['area_type'],color = 'skyblue')\n",
    "y.bar_label(y.containers[0])\n",
    "sns.despine()\n",
    "plt.xlabel('area_type',fontsize = 12)\n",
    "plt.ylabel('Count',fontsize = 12)\n",
    "plt.show()"
   ]
  },
  {
   "cell_type": "code",
   "execution_count": 34,
   "id": "0f448c74",
   "metadata": {
    "ExecuteTime": {
     "end_time": "2024-03-22T12:25:13.259520Z",
     "start_time": "2024-03-22T12:25:13.246527Z"
    }
   },
   "outputs": [],
   "source": [
    "# droping irrelavant features\n",
    "df = df.drop(['availability','society'],axis = 1)"
   ]
  },
  {
   "cell_type": "code",
   "execution_count": 35,
   "id": "4d77d63e",
   "metadata": {
    "ExecuteTime": {
     "end_time": "2024-03-22T12:25:13.868186Z",
     "start_time": "2024-03-22T12:25:13.847198Z"
    }
   },
   "outputs": [],
   "source": [
    "# treating null values\n",
    "df.dropna(inplace = True)"
   ]
  },
  {
   "cell_type": "markdown",
   "id": "46b0fa31",
   "metadata": {},
   "source": [
    "## Data cleaning"
   ]
  },
  {
   "cell_type": "code",
   "execution_count": 36,
   "id": "33c35fd3",
   "metadata": {
    "ExecuteTime": {
     "end_time": "2024-03-22T12:25:14.907574Z",
     "start_time": "2024-03-22T12:25:14.894584Z"
    },
    "scrolled": true
   },
   "outputs": [
    {
     "data": {
      "text/plain": [
       "array(['2 BHK', '4 Bedroom', '3 BHK', '3 Bedroom', '1 BHK', '1 RK',\n",
       "       '4 BHK', '1 Bedroom', '2 Bedroom', '6 Bedroom', '8 Bedroom',\n",
       "       '7 Bedroom', '5 BHK', '7 BHK', '6 BHK', '5 Bedroom', '11 BHK',\n",
       "       '9 BHK', '9 Bedroom', '27 BHK', '11 Bedroom', '43 Bedroom',\n",
       "       '14 BHK', '8 BHK', '12 Bedroom', '10 Bedroom', '13 BHK'],\n",
       "      dtype=object)"
      ]
     },
     "execution_count": 36,
     "metadata": {},
     "output_type": "execute_result"
    }
   ],
   "source": [
    "df['size'].unique()"
   ]
  },
  {
   "cell_type": "code",
   "execution_count": 37,
   "id": "9504e8ae",
   "metadata": {
    "ExecuteTime": {
     "end_time": "2024-03-22T12:25:15.503236Z",
     "start_time": "2024-03-22T12:25:15.479249Z"
    }
   },
   "outputs": [],
   "source": [
    "df['bhk'] = df['size'].apply(lambda x: int(x.split()[0]))"
   ]
  },
  {
   "cell_type": "code",
   "execution_count": 38,
   "id": "4e98762a",
   "metadata": {
    "ExecuteTime": {
     "end_time": "2024-03-22T12:25:16.010944Z",
     "start_time": "2024-03-22T12:25:15.999953Z"
    }
   },
   "outputs": [],
   "source": [
    "def convert_sqrt_to_num(x):\n",
    "    tokens = x.split('-')\n",
    "    if len(tokens) == 2:\n",
    "        return (float(tokens[0]) + float(tokens[1]))/2\n",
    "    try:\n",
    "        return float(x)\n",
    "    except:\n",
    "        return None"
   ]
  },
  {
   "cell_type": "code",
   "execution_count": 39,
   "id": "5ba2f783",
   "metadata": {
    "ExecuteTime": {
     "end_time": "2024-03-22T12:25:16.902436Z",
     "start_time": "2024-03-22T12:25:16.876451Z"
    }
   },
   "outputs": [],
   "source": [
    "df['total_sqft'] = df['total_sqft'].apply(convert_sqrt_to_num)"
   ]
  },
  {
   "cell_type": "code",
   "execution_count": 40,
   "id": "a7c20b4b",
   "metadata": {
    "ExecuteTime": {
     "end_time": "2024-03-22T12:25:17.554079Z",
     "start_time": "2024-03-22T12:25:17.529077Z"
    }
   },
   "outputs": [],
   "source": [
    "df.dropna(inplace = True)"
   ]
  },
  {
   "cell_type": "markdown",
   "id": "3bd13f53",
   "metadata": {},
   "source": [
    "## Feature Engineering"
   ]
  },
  {
   "cell_type": "code",
   "execution_count": 41,
   "id": "e12b3e80",
   "metadata": {
    "ExecuteTime": {
     "end_time": "2024-03-22T12:25:18.692411Z",
     "start_time": "2024-03-22T12:25:18.681419Z"
    }
   },
   "outputs": [],
   "source": [
    "df['price_per_sqft'] = round(df['price']*100000/df['total_sqft'],2)"
   ]
  },
  {
   "cell_type": "code",
   "execution_count": 42,
   "id": "925bc789",
   "metadata": {
    "ExecuteTime": {
     "end_time": "2024-03-22T12:25:21.851607Z",
     "start_time": "2024-03-22T12:25:21.839613Z"
    }
   },
   "outputs": [],
   "source": [
    "location_stats = df['location'].value_counts()\n",
    "location_less_than_10 = location_stats[location_stats <= 10]"
   ]
  },
  {
   "cell_type": "code",
   "execution_count": 43,
   "id": "8d91cc5b",
   "metadata": {
    "ExecuteTime": {
     "end_time": "2024-03-22T12:25:22.414358Z",
     "start_time": "2024-03-22T12:25:22.363316Z"
    }
   },
   "outputs": [],
   "source": [
    "df['location'] =df['location'].apply(lambda x: 'other' if x in location_less_than_10 else x)"
   ]
  },
  {
   "cell_type": "markdown",
   "id": "e46d6e1f",
   "metadata": {},
   "source": [
    "## Outlier Detection and Treatment"
   ]
  },
  {
   "cell_type": "code",
   "execution_count": 44,
   "id": "1a0b55d5",
   "metadata": {
    "ExecuteTime": {
     "end_time": "2024-03-22T12:25:23.435702Z",
     "start_time": "2024-03-22T12:25:23.421711Z"
    }
   },
   "outputs": [],
   "source": [
    "df = df[~(df['total_sqft']/df['bhk'] < 300)]"
   ]
  },
  {
   "cell_type": "code",
   "execution_count": 45,
   "id": "e09fd575",
   "metadata": {
    "ExecuteTime": {
     "end_time": "2024-03-22T12:25:24.369186Z",
     "start_time": "2024-03-22T12:25:23.967399Z"
    }
   },
   "outputs": [
    {
     "data": {
      "text/plain": [
       "<AxesSubplot:>"
      ]
     },
     "execution_count": 45,
     "metadata": {},
     "output_type": "execute_result"
    },
    {
     "data": {
      "image/png": "[encoded data removed]",
      "text/plain": [
       "<Figure size 640x480 with 1 Axes>"
      ]
     },
     "metadata": {},
     "output_type": "display_data"
    }
   ],
   "source": [
    "df.boxplot()"
   ]
  },
  {
   "cell_type": "code",
   "execution_count": 46,
   "id": "dcbc0fd4",
   "metadata": {
    "ExecuteTime": {
     "end_time": "2024-03-22T12:25:24.769958Z",
     "start_time": "2024-03-22T12:25:24.645010Z"
    }
   },
   "outputs": [],
   "source": [
    "def replace_outliers(mydf,col,method = 'quartile',strategy = 'median'):\n",
    "    if method == 'quartile':\n",
    "        Q1 = mydf[col].quantile(0.25)\n",
    "        Q2 = mydf[col].quantile(0.50)        \n",
    "        Q3 = mydf[col].quantile(0.75)\n",
    "        IQR = Q3 - Q1\n",
    "        LW = Q1 - 1.5 * IQR\n",
    "        UW = Q3 + 1.5 * IQR\n",
    "    elif method == 'std':\n",
    "        mean = mydf[col].mean()\n",
    "        stddev = mydf[col].std()\n",
    "        LW = mean - (2 * std)\n",
    "        UW = mean + (2 * std)\n",
    "    else:\n",
    "        print('pass a correct method')\n",
    "    \n",
    "    # printing the outliers\n",
    "    outliers = mydf.loc[(mydf[col] < LW) | (mydf[col] > UW),col]\n",
    "    outliers_density = round(len(outliers)/len(mydf),2)\n",
    "    if len(outliers) == 0:\n",
    "        print(f'feature {col} does not have outliers')\n",
    "    else:\n",
    "        print(f'feature {col} have outliers')\n",
    "        print(f'total number of outliers in {col} is {len(outliers)}')\n",
    "        print(f'outliers density in {col} is {(outliers_density * 100)} %')\n",
    "        \n",
    "    if outliers_density * 100 > 2.0:\n",
    "        if strategy == 'median':\n",
    "            dropindex1 = mydf.loc[mydf[col] < LW,col].index\n",
    "            mydf.drop(dropindex1,axis = 0,inplace = True)\n",
    "            dropindex2 = mydf.loc[mydf[col] > UW,col].index\n",
    "            mydf.drop(dropindex2,axis = 0,inplace = True)\n",
    "        elif strategy == 'mean':\n",
    "            mydf.loc[mydf[col] < LW,col] = mean\n",
    "            mydf.loc[mydf[col] > UW,col] = mean\n",
    "    return mydf"
   ]
  },
  {
   "cell_type": "code",
   "execution_count": 47,
   "id": "57f6ce8a",
   "metadata": {
    "ExecuteTime": {
     "end_time": "2024-03-22T12:25:25.546495Z",
     "start_time": "2024-03-22T12:25:25.501526Z"
    }
   },
   "outputs": [
    {
     "name": "stdout",
     "output_type": "stream",
     "text": [
      "feature total_sqft have outliers\n",
      "total number of outliers in total_sqft is 927\n",
      "outliers density in total_sqft is 8.0 %\n",
      "feature price_per_sqft have outliers\n",
      "total number of outliers in price_per_sqft is 762\n",
      "outliers density in price_per_sqft is 7.000000000000001 %\n"
     ]
    }
   ],
   "source": [
    "for col in df.drop(['area_type','location','size','bath','bhk','price','balcony'],axis = 1).columns:\n",
    "    replace_outliers(df,col)"
   ]
  },
  {
   "cell_type": "markdown",
   "id": "e99bfa96",
   "metadata": {},
   "source": [
    "## Data preprocessing\n",
    "- Converting categorical form to numerical form using one hot encoding."
   ]
  },
  {
   "cell_type": "code",
   "execution_count": 48,
   "id": "5669c717",
   "metadata": {
    "ExecuteTime": {
     "end_time": "2024-03-22T12:25:26.960685Z",
     "start_time": "2024-03-22T12:25:26.919712Z"
    }
   },
   "outputs": [],
   "source": [
    "df = pd.get_dummies(df,columns = ['location'])"
   ]
  },
  {
   "cell_type": "code",
   "execution_count": 49,
   "id": "f2e0003d",
   "metadata": {
    "ExecuteTime": {
     "end_time": "2024-03-22T12:25:27.664287Z",
     "start_time": "2024-03-22T12:25:27.642299Z"
    }
   },
   "outputs": [],
   "source": [
    "df = pd.get_dummies(df,columns = ['area_type'])"
   ]
  },
  {
   "cell_type": "code",
   "execution_count": 50,
   "id": "ab24f8da",
   "metadata": {
    "ExecuteTime": {
     "end_time": "2024-03-22T12:25:30.817499Z",
     "start_time": "2024-03-22T12:25:30.798495Z"
    }
   },
   "outputs": [],
   "source": [
    "df = df.drop(['location_other','size'],axis = 1)"
   ]
  },
  {
   "cell_type": "markdown",
   "id": "dac25823",
   "metadata": {},
   "source": [
    "## Train Test Split"
   ]
  },
  {
   "cell_type": "code",
   "execution_count": 51,
   "id": "de7e0e09",
   "metadata": {
    "ExecuteTime": {
     "end_time": "2024-03-22T12:25:31.986831Z",
     "start_time": "2024-03-22T12:25:31.973819Z"
    }
   },
   "outputs": [],
   "source": [
    "X = df.drop('price',axis = 1)\n",
    "y = df['price']"
   ]
  },
  {
   "cell_type": "code",
   "execution_count": 52,
   "id": "9c91d70e",
   "metadata": {
    "ExecuteTime": {
     "end_time": "2024-03-22T12:25:32.584474Z",
     "start_time": "2024-03-22T12:25:32.543497Z"
    }
   },
   "outputs": [],
   "source": [
    "X_train,X_test,y_train,y_test = train_test_split(X,y,test_size = 0.2,random_state = 5)"
   ]
  },
  {
   "cell_type": "markdown",
   "id": "16a853ad",
   "metadata": {},
   "source": [
    "## Model building"
   ]
  },
  {
   "cell_type": "code",
   "execution_count": 53,
   "id": "6143a283",
   "metadata": {
    "ExecuteTime": {
     "end_time": "2024-03-22T12:25:33.224106Z",
     "start_time": "2024-03-22T12:25:33.213112Z"
    }
   },
   "outputs": [],
   "source": [
    "def model_builder(estimators):\n",
    "    for estimator in estimators:\n",
    "        estimator.fit(X_train,y_train)\n",
    "        \n",
    "        # model evaluation\n",
    "        training_accuracy = estimator.score(X_train,y_train)\n",
    "        y_pred = estimator.predict(X_test)\n",
    "        r2score = r2_score(y_test,y_pred)\n",
    "        rmse = np.sqrt(mean_squared_error(y_test,y_pred))\n",
    "        \n",
    "        print('MODEL NAME:',type(estimator).__name__)\n",
    "        print('\\nTraining Accuracy:',round(training_accuracy,4),end = '\\t')\n",
    "        print('Validation Accuracy:',round(r2score,4),end = '\\t')\n",
    "        print('rmse:',round(rmse,4))\n",
    "        print('\\n')"
   ]
  },
  {
   "cell_type": "code",
   "execution_count": 54,
   "id": "d2ee9de4",
   "metadata": {
    "ExecuteTime": {
     "end_time": "2024-03-22T12:26:00.221675Z",
     "start_time": "2024-03-22T12:25:34.228536Z"
    }
   },
   "outputs": [
    {
     "name": "stdout",
     "output_type": "stream",
     "text": [
      "MODEL NAME: LinearRegression\n",
      "\n",
      "Training Accuracy: 0.9696\tValidation Accuracy: 0.9667\trmse: 6.3583\n",
      "\n",
      "\n",
      "MODEL NAME: DecisionTreeRegressor\n",
      "\n",
      "Training Accuracy: 1.0\tValidation Accuracy: 0.9982\trmse: 1.4811\n",
      "\n",
      "\n",
      "MODEL NAME: KNeighborsRegressor\n",
      "\n",
      "Training Accuracy: 0.9993\tValidation Accuracy: 0.9989\trmse: 1.1805\n",
      "\n",
      "\n",
      "MODEL NAME: RandomForestRegressor\n",
      "\n",
      "Training Accuracy: 0.9999\tValidation Accuracy: 0.9994\trmse: 0.8337\n",
      "\n",
      "\n",
      "MODEL NAME: XGBRegressor\n",
      "\n",
      "Training Accuracy: 0.9996\tValidation Accuracy: 0.9989\trmse: 1.1447\n",
      "\n",
      "\n"
     ]
    }
   ],
   "source": [
    "model_builder([LinearRegression(),DecisionTreeRegressor(),KNeighborsRegressor(),\n",
    "              RandomForestRegressor(),XGBRegressor()])"
   ]
  }
 ],
 "metadata": {
  "kernelspec": {
   "display_name": "Python 3 (ipykernel)",
   "language": "python",
   "name": "python3"
  },
  "language_info": {
   "codemirror_mode": {
    "name": "ipython",
    "version": 3
   },
   "file_extension": ".py",
   "mimetype": "text/x-python",
   "name": "python",
   "nbconvert_exporter": "python",
   "pygments_lexer": "ipython3",
   "version": "3.9.13"
  }
 },
 "nbformat": 4,
 "nbformat_minor": 5
}
